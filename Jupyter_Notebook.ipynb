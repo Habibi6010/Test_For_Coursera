{
 "cells": [
  {
   "cell_type": "markdown",
   "metadata": {},
   "source": [
    "<center>\n",
    "    <img src=\"https://cf-courses-data.s3.us.cloud-object-storage.appdomain.cloud/IBMDeveloperSkillsNetwork-DS0105EN-SkillsNetwork/labs/Module2/images/SN_web_lightmode.png\" width=\"300\" alt=\"cognitiveclass.ai logo\"  />\n",
    "</center>\n"
   ]
  },
  {
   "cell_type": "markdown",
   "metadata": {},
   "source": [
    "#### Add your code below following the instructions given in the course\n"
   ]
  },
  {
   "cell_type": "markdown",
   "metadata": {},
   "source": [
    "# My Jupyter Notebook on IBM Watson Studio"
   ]
  },
  {
   "cell_type": "markdown",
   "metadata": {},
   "source": [
    "**Mosatafa Habibi Dehsheikhi**\n",
    "\n",
    "I'm from Iran."
   ]
  },
  {
   "cell_type": "markdown",
   "metadata": {},
   "source": [
    "_I am interested in data science because I can find better job and make more money. This skills can make a huge progress in all aspects and is useful in different ways including modeling and analysis._"
   ]
  },
  {
   "cell_type": "markdown",
   "metadata": {},
   "source": [
    "### Next cell print the result for \" 2 * 3 \""
   ]
  },
  {
   "cell_type": "code",
   "execution_count": 1,
   "metadata": {},
   "outputs": [
    {
     "name": "stdout",
     "output_type": "stream",
     "text": [
      "6\n"
     ]
    }
   ],
   "source": [
    "print(2*3)"
   ]
  },
  {
   "cell_type": "markdown",
   "metadata": {},
   "source": [
    "|ID# |First Name|Last Name|\n",
    "|----|----|----|\n",
    "|1|Mostafa|Habibi|\n",
    "|2|Akbar|akbari|\n",
    "\n",
    "<ol>\n",
    "  <li>First item</li>\n",
    "  <li>Second item</li>\n",
    "  <li>Third item\n",
    "    <ol>\n",
    "      <li>Indented item</li>\n",
    "      <li>Indented item</li>\n",
    "    </ol>\n",
    "  </li>\n",
    "  <li>Fourth item</li>\n",
    "</ol>\n",
    "\n",
    "<ul>\n",
    "  <li>First item</li>\n",
    "  <li>Second item</li>\n",
    "  <li>Third item\n",
    "    <ul>\n",
    "      <li>Indented item</li>\n",
    "      <li>Indented item</li>\n",
    "    </ul>\n",
    "  </li>\n",
    "  <li>Fourth item</li>\n",
    "</ul>\n",
    "    \n",
    "    \n",
    "My favorite search engine is [Google](https://www.google.com/).\n",
    "\n",
    "My GitHub Link is [GitHub](https://github.com/Habibi6010/Test_For_Coursera.git)."
   ]
  }
 ],
 "metadata": {
  "kernelspec": {
   "display_name": "Python",
   "language": "python",
   "name": "conda-env-python-py"
  },
  "language_info": {
   "codemirror_mode": {
    "name": "ipython",
    "version": 3
   },
   "file_extension": ".py",
   "mimetype": "text/x-python",
   "name": "python",
   "nbconvert_exporter": "python",
   "pygments_lexer": "ipython3",
   "version": "3.7.12"
  }
 },
 "nbformat": 4,
 "nbformat_minor": 4
}
